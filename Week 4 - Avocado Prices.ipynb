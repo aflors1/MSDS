{
 "cells": [
  {
   "cell_type": "code",
   "execution_count": 97,
   "id": "6d178104",
   "metadata": {
    "scrolled": true
   },
   "outputs": [
    {
     "name": "stderr",
     "output_type": "stream",
     "text": [
      "C:\\Users\\allis\\AppData\\Local\\Temp\\ipykernel_23868\\4159130516.py:14: SettingWithCopyWarning: \n",
      "A value is trying to be set on a copy of a slice from a DataFrame.\n",
      "Try using .loc[row_indexer,col_indexer] = value instead\n",
      "\n",
      "See the caveats in the documentation: https://pandas.pydata.org/pandas-docs/stable/user_guide/indexing.html#returning-a-view-versus-a-copy\n",
      "  data_2017['Date'] = pd.to_datetime(data_2017['Date'])\n",
      "C:\\Users\\allis\\AppData\\Local\\Temp\\ipykernel_23868\\4159130516.py:15: SettingWithCopyWarning: \n",
      "A value is trying to be set on a copy of a slice from a DataFrame.\n",
      "Try using .loc[row_indexer,col_indexer] = value instead\n",
      "\n",
      "See the caveats in the documentation: https://pandas.pydata.org/pandas-docs/stable/user_guide/indexing.html#returning-a-view-versus-a-copy\n",
      "  data_2017['quarter'] = data_2017['Date'].dt.quarter\n",
      "C:\\Users\\allis\\AppData\\Local\\Temp\\ipykernel_23868\\4159130516.py:16: SettingWithCopyWarning: \n",
      "A value is trying to be set on a copy of a slice from a DataFrame.\n",
      "Try using .loc[row_indexer,col_indexer] = value instead\n",
      "\n",
      "See the caveats in the documentation: https://pandas.pydata.org/pandas-docs/stable/user_guide/indexing.html#returning-a-view-versus-a-copy\n",
      "  data_2017['quarter'] = data_2017['Date'].dt.to_period('Q').astype(str)\n"
     ]
    }
   ],
   "source": [
    "# Import key packages - one time run \n",
    "# !pip install altair vega_datasets \n",
    "\n",
    "import pandas as pd\n",
    "import altair as alt\n",
    "\n",
    "# Upload Avocado Prices dataset - saved in the same folder as the notebook \n",
    "data= pd.read_csv(\"avocado.csv\")\n",
    "\n",
    "# Limit number of rows in spreadsheet \n",
    "data_2017 = data[data['year']==2017]\n",
    "\n",
    "# Create column for quarter \n",
    "data_2017['Date'] = pd.to_datetime(data_2017['Date'])\n",
    "data_2017['quarter'] = data_2017['Date'].dt.quarter\n",
    "data_2017['quarter'] = data_2017['Date'].dt.to_period('Q').astype(str)\n",
    "\n",
    "# Sample random 4,500 rows to meet Altair limit \n",
    "data_final = data_2017.sample(n=4500, random_state=42)\n",
    "\n",
    "# Bar graph for average price by quarter\n",
    "dropdown = alt.binding_select (options=data[\"region\"].unique(), name=\"Select a region:\")\n",
    "selection = alt.selection_point(fields=['region'], bind=dropdown)\n",
    "\n",
    "alt.Chart(data_final).mark_point().encode(\n",
    "    x='Date',\n",
    "    y='AveragePrice',\n",
    "    color='type',\n",
    "    tooltip=['region', 'type', 'AveragePrice', 'Date']\n",
    "\n",
    ").transform_filter(selection).properties(\n",
    "\n",
    "    title='Average Avocado Price in 2017',\n",
    "    width=600,\n",
    "    height=200\n",
    "    \n",
    ").add_params(selection).interactive().save('avoprices.html')\n",
    "\n",
    "\n"
   ]
  },
  {
   "cell_type": "code",
   "execution_count": null,
   "id": "14c8b04f",
   "metadata": {},
   "outputs": [],
   "source": []
  }
 ],
 "metadata": {
  "kernelspec": {
   "display_name": "Python 3 (ipykernel)",
   "language": "python",
   "name": "python3"
  },
  "language_info": {
   "codemirror_mode": {
    "name": "ipython",
    "version": 3
   },
   "file_extension": ".py",
   "mimetype": "text/x-python",
   "name": "python",
   "nbconvert_exporter": "python",
   "pygments_lexer": "ipython3",
   "version": "3.11.5"
  }
 },
 "nbformat": 4,
 "nbformat_minor": 5
}
